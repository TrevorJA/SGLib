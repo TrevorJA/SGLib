{
 "cells": [
  {
   "cell_type": "code",
   "execution_count": 1,
   "id": "29b031a4",
   "metadata": {},
   "outputs": [],
   "source": [
    "import sys\n",
    "import numpy as np\n",
    "import pandas as pd\n",
    "import pygeohydro as gh\n",
    "from pygeohydro import NWIS\n",
    "import matplotlib.pyplot as plt\n",
    "\n",
    "sys.path.append('../')\n",
    "\n",
    "import sglib as sg\n",
    "from sglib.verification.drought import get_drought_metrics, calculate_ssi_values\n",
    "from sglib.utils.load import load_drb_reconstruction\n",
    "\n",
    "from sglib.plotting.plot import plot_autocorrelation, plot_fdc_ranges, plot_flow_ranges\n",
    "from sglib.plotting.drought import drought_metric_scatter_plot\n",
    "\n",
    "from sglib.methods.nonparametric.kirsch_nowak import KirschNowakGenerator"
   ]
  },
  {
   "cell_type": "code",
   "execution_count": 2,
   "id": "677e49af",
   "metadata": {},
   "outputs": [
    {
     "data": {
      "application/vnd.microsoft.datawrangler.viewer.v0+json": {
       "columns": [
        {
         "name": "index",
         "rawType": "datetime64[ns]",
         "type": "datetime"
        },
        {
         "name": "cannonsville",
         "rawType": "float64",
         "type": "float"
        },
        {
         "name": "pepacton",
         "rawType": "float64",
         "type": "float"
        },
        {
         "name": "neversink",
         "rawType": "float64",
         "type": "float"
        },
        {
         "name": "wallenpaupack",
         "rawType": "float64",
         "type": "float"
        },
        {
         "name": "prompton",
         "rawType": "float64",
         "type": "float"
        },
        {
         "name": "shoholaMarsh",
         "rawType": "float64",
         "type": "float"
        },
        {
         "name": "mongaupeCombined",
         "rawType": "float64",
         "type": "float"
        },
        {
         "name": "beltzvilleCombined",
         "rawType": "float64",
         "type": "float"
        },
        {
         "name": "fewalter",
         "rawType": "float64",
         "type": "float"
        },
        {
         "name": "merrillCreek",
         "rawType": "float64",
         "type": "float"
        },
        {
         "name": "hopatcong",
         "rawType": "float64",
         "type": "float"
        },
        {
         "name": "nockamixon",
         "rawType": "float64",
         "type": "float"
        },
        {
         "name": "assunpink",
         "rawType": "float64",
         "type": "float"
        },
        {
         "name": "ontelaunee",
         "rawType": "float64",
         "type": "float"
        },
        {
         "name": "stillCreek",
         "rawType": "float64",
         "type": "float"
        },
        {
         "name": "blueMarsh",
         "rawType": "float64",
         "type": "float"
        },
        {
         "name": "greenLane",
         "rawType": "float64",
         "type": "float"
        },
        {
         "name": "01425000",
         "rawType": "float64",
         "type": "float"
        },
        {
         "name": "01417000",
         "rawType": "float64",
         "type": "float"
        },
        {
         "name": "delLordville",
         "rawType": "float64",
         "type": "float"
        },
        {
         "name": "01436000",
         "rawType": "float64",
         "type": "float"
        },
        {
         "name": "01433500",
         "rawType": "float64",
         "type": "float"
        },
        {
         "name": "delMontague",
         "rawType": "float64",
         "type": "float"
        },
        {
         "name": "01449800",
         "rawType": "float64",
         "type": "float"
        },
        {
         "name": "01447800",
         "rawType": "float64",
         "type": "float"
        },
        {
         "name": "delDRCanal",
         "rawType": "float64",
         "type": "float"
        },
        {
         "name": "01463620",
         "rawType": "float64",
         "type": "float"
        },
        {
         "name": "outletAssunpink",
         "rawType": "float64",
         "type": "float"
        },
        {
         "name": "01470960",
         "rawType": "float64",
         "type": "float"
        },
        {
         "name": "outletSchuylkill",
         "rawType": "float64",
         "type": "float"
        }
       ],
       "conversionMethod": "pd.DataFrame",
       "ref": "b583cabd-c436-442f-9761-a02ce173f1bc",
       "rows": [
        [
         "1945-01-01 00:00:00",
         "2182.881979849356",
         "3049.283277395792",
         "465.88941185052914",
         "547.2189022516404",
         "354.8797035809941",
         "102.37253658326006",
         "361.45423405389295",
         "62.05090530643436",
         "257.14889100447306",
         "62.8946043325756",
         "41.16964662289373",
         "26.566621413505622",
         "45.002377320036885",
         "317.5753735436783",
         "46.82436141054245",
         "288.2209304065745",
         "71.76964175315916",
         "3412.7496148977098",
         "2859.9644286399043",
         "9389.998410438397",
         "560.2111414170905",
         "434.8194813234669",
         "5819.91055787926",
         "79.5308249528264",
         "200.786191490922",
         "14280.028359463267",
         "62.33904401734684",
         "162.21814769775312",
         "303.2357459335301",
         "7991.994246671815"
        ],
        [
         "1945-01-02 00:00:00",
         "2365.621226802328",
         "3062.214500162564",
         "506.7902186297471",
         "764.8475195394926",
         "273.1681872128778",
         "145.40981777400356",
         "648.8537340350979",
         "118.13408067020474",
         "431.6413879435218",
         "89.31840431951412",
         "83.42039212389055",
         "31.555863786360465",
         "59.09690060464447",
         "406.30478368489753",
         "52.82476629559508",
         "364.4948737615112",
         "147.9271757707674",
         "2618.1970568244574",
         "2698.1598895842926",
         "9243.765144346093",
         "621.8438223883685",
         "901.2033830928068",
         "14796.024684666369",
         "152.15667675977716",
         "453.8156241778125",
         "24072.036279713808",
         "87.97228965325735",
         "266.0624543414641",
         "393.2237130994897",
         "10419.0902554332"
        ]
       ],
       "shape": {
        "columns": 30,
        "rows": 2
       }
      },
      "text/html": [
       "<div>\n",
       "<style scoped>\n",
       "    .dataframe tbody tr th:only-of-type {\n",
       "        vertical-align: middle;\n",
       "    }\n",
       "\n",
       "    .dataframe tbody tr th {\n",
       "        vertical-align: top;\n",
       "    }\n",
       "\n",
       "    .dataframe thead th {\n",
       "        text-align: right;\n",
       "    }\n",
       "</style>\n",
       "<table border=\"1\" class=\"dataframe\">\n",
       "  <thead>\n",
       "    <tr style=\"text-align: right;\">\n",
       "      <th></th>\n",
       "      <th>cannonsville</th>\n",
       "      <th>pepacton</th>\n",
       "      <th>neversink</th>\n",
       "      <th>wallenpaupack</th>\n",
       "      <th>prompton</th>\n",
       "      <th>shoholaMarsh</th>\n",
       "      <th>mongaupeCombined</th>\n",
       "      <th>beltzvilleCombined</th>\n",
       "      <th>fewalter</th>\n",
       "      <th>merrillCreek</th>\n",
       "      <th>...</th>\n",
       "      <th>01436000</th>\n",
       "      <th>01433500</th>\n",
       "      <th>delMontague</th>\n",
       "      <th>01449800</th>\n",
       "      <th>01447800</th>\n",
       "      <th>delDRCanal</th>\n",
       "      <th>01463620</th>\n",
       "      <th>outletAssunpink</th>\n",
       "      <th>01470960</th>\n",
       "      <th>outletSchuylkill</th>\n",
       "    </tr>\n",
       "  </thead>\n",
       "  <tbody>\n",
       "    <tr>\n",
       "      <th>1945-01-01</th>\n",
       "      <td>2182.881980</td>\n",
       "      <td>3049.283277</td>\n",
       "      <td>465.889412</td>\n",
       "      <td>547.218902</td>\n",
       "      <td>354.879704</td>\n",
       "      <td>102.372537</td>\n",
       "      <td>361.454234</td>\n",
       "      <td>62.050905</td>\n",
       "      <td>257.148891</td>\n",
       "      <td>62.894604</td>\n",
       "      <td>...</td>\n",
       "      <td>560.211141</td>\n",
       "      <td>434.819481</td>\n",
       "      <td>5819.910558</td>\n",
       "      <td>79.530825</td>\n",
       "      <td>200.786191</td>\n",
       "      <td>14280.028359</td>\n",
       "      <td>62.339044</td>\n",
       "      <td>162.218148</td>\n",
       "      <td>303.235746</td>\n",
       "      <td>7991.994247</td>\n",
       "    </tr>\n",
       "    <tr>\n",
       "      <th>1945-01-02</th>\n",
       "      <td>2365.621227</td>\n",
       "      <td>3062.214500</td>\n",
       "      <td>506.790219</td>\n",
       "      <td>764.847520</td>\n",
       "      <td>273.168187</td>\n",
       "      <td>145.409818</td>\n",
       "      <td>648.853734</td>\n",
       "      <td>118.134081</td>\n",
       "      <td>431.641388</td>\n",
       "      <td>89.318404</td>\n",
       "      <td>...</td>\n",
       "      <td>621.843822</td>\n",
       "      <td>901.203383</td>\n",
       "      <td>14796.024685</td>\n",
       "      <td>152.156677</td>\n",
       "      <td>453.815624</td>\n",
       "      <td>24072.036280</td>\n",
       "      <td>87.972290</td>\n",
       "      <td>266.062454</td>\n",
       "      <td>393.223713</td>\n",
       "      <td>10419.090255</td>\n",
       "    </tr>\n",
       "  </tbody>\n",
       "</table>\n",
       "<p>2 rows × 30 columns</p>\n",
       "</div>"
      ],
      "text/plain": [
       "            cannonsville     pepacton   neversink  wallenpaupack    prompton  \\\n",
       "1945-01-01   2182.881980  3049.283277  465.889412     547.218902  354.879704   \n",
       "1945-01-02   2365.621227  3062.214500  506.790219     764.847520  273.168187   \n",
       "\n",
       "            shoholaMarsh  mongaupeCombined  beltzvilleCombined    fewalter  \\\n",
       "1945-01-01    102.372537        361.454234           62.050905  257.148891   \n",
       "1945-01-02    145.409818        648.853734          118.134081  431.641388   \n",
       "\n",
       "            merrillCreek  ...    01436000    01433500   delMontague  \\\n",
       "1945-01-01     62.894604  ...  560.211141  434.819481   5819.910558   \n",
       "1945-01-02     89.318404  ...  621.843822  901.203383  14796.024685   \n",
       "\n",
       "              01449800    01447800    delDRCanal   01463620  outletAssunpink  \\\n",
       "1945-01-01   79.530825  200.786191  14280.028359  62.339044       162.218148   \n",
       "1945-01-02  152.156677  453.815624  24072.036280  87.972290       266.062454   \n",
       "\n",
       "              01470960  outletSchuylkill  \n",
       "1945-01-01  303.235746       7991.994247  \n",
       "1945-01-02  393.223713      10419.090255  \n",
       "\n",
       "[2 rows x 30 columns]"
      ]
     },
     "execution_count": 2,
     "metadata": {},
     "output_type": "execute_result"
    }
   ],
   "source": [
    "Q = load_drb_reconstruction()\n",
    "\n",
    "Q.head(2)"
   ]
  },
  {
   "cell_type": "code",
   "execution_count": 4,
   "id": "fea891a6",
   "metadata": {},
   "outputs": [
    {
     "name": "stderr",
     "output_type": "stream",
     "text": [
      "c:\\Users\\tjame\\Desktop\\Research\\SGLib\\examples\\..\\sglib\\methods\\nonparametric\\kirsch_nowak.py:124: UserWarning: Matrix not positive definite, repairing...\n",
      "  warnings.warn(\"Matrix not positive definite, repairing...\")\n"
     ]
    },
    {
     "name": "stdout",
     "output_type": "stream",
     "text": [
      "Matrix repaired successfully after 15 iterations.\n",
      "Matrix repaired successfully after 1 iterations.\n"
     ]
    }
   ],
   "source": [
    "# Initialize the generator\n",
    "kn_gen = KirschNowakGenerator(Q)\n",
    "\n",
    "# Preprocess the data\n",
    "kn_gen.preprocessing()\n",
    "\n",
    "# Fit the model\n",
    "kn_gen.fit()"
   ]
  },
  {
   "cell_type": "code",
   "execution_count": 5,
   "id": "84c38d0c",
   "metadata": {},
   "outputs": [],
   "source": [
    "synthetic_series = kn_gen.generate_single_series(n_years=10)\n"
   ]
  },
  {
   "cell_type": "code",
   "execution_count": null,
   "id": "a59e57bf",
   "metadata": {},
   "outputs": [
    {
     "data": {
      "text/plain": [
       "(30, 120)"
      ]
     },
     "execution_count": 7,
     "metadata": {},
     "output_type": "execute_result"
    }
   ],
   "source": []
  },
  {
   "cell_type": "code",
   "execution_count": null,
   "id": "e7a1a1af",
   "metadata": {},
   "outputs": [],
   "source": []
  }
 ],
 "metadata": {
  "kernelspec": {
   "display_name": "venv",
   "language": "python",
   "name": "python3"
  },
  "language_info": {
   "codemirror_mode": {
    "name": "ipython",
    "version": 3
   },
   "file_extension": ".py",
   "mimetype": "text/x-python",
   "name": "python",
   "nbconvert_exporter": "python",
   "pygments_lexer": "ipython3",
   "version": "3.10.10"
  }
 },
 "nbformat": 4,
 "nbformat_minor": 5
}
